{
 "cells": [
  {
   "cell_type": "markdown",
   "id": "11e813d5-3b4a-463c-bc55-d2a5ff639828",
   "metadata": {
    "tags": []
   },
   "source": [
    "# Assignment Questions "
   ]
  },
  {
   "cell_type": "markdown",
   "id": "ca55faa6-1ef9-4845-abb5-e37e8f588151",
   "metadata": {
    "tags": []
   },
   "source": [
    "---"
   ]
  },
  {
   "cell_type": "markdown",
   "id": "5d7e1a8f-a267-4d98-b61f-3012655a2235",
   "metadata": {
    "tags": []
   },
   "source": [
    "##### Q1. Create a function which will take a list as an argument and return the product of all the numbers  after creating a flat list. \n",
    "> Use the below-given list as an argument for your function.\n",
    "list1 = [1,2,3,4, [44,55,66, True], False, (34,56,78,89,34), {1,2,3,3,2,1}, {1:34, \"key2\": [55, 67, 78, 89], 4: (45,  22, 61, 34)}, [56, 'data science'], 'Machine Learning'] \n",
    "\n",
    "Note: you must extract numeric keys and values of the dictionary also. \n"
   ]
  },
  {
   "cell_type": "code",
   "execution_count": 1,
   "id": "e878d6ec-c242-446f-8616-04dd2fb72d33",
   "metadata": {},
   "outputs": [],
   "source": [
    "list1 = [1,2,3,4, [44,55,66, True], False, (34,56,78,89,34), {1,2,3,3,2,1},\n",
    "         {1:34, \"key2\": [55, 67, 78, 89], 4: (45,  22, 61, 34)}, [56, 'data science'], 'Machine Learning'] "
   ]
  },
  {
   "cell_type": "code",
   "execution_count": 2,
   "id": "59160364-1bd8-4380-902f-a72f109f3825",
   "metadata": {},
   "outputs": [],
   "source": [
    "from functools import reduce\n",
    "\n",
    "def filter_from_iterable( arr ) :    \n",
    "    return [ i for i in arr if type(i) == int ]\n",
    "\n",
    "\n",
    "def filter_from_dict( dictionary ) :\n",
    "    arr = []\n",
    "    for key, val in dictionary.items() :\n",
    "        if type(key) == int : \n",
    "            arr.append(key)\n",
    "            \n",
    "        if type(val) == int : \n",
    "            arr.append(val)\n",
    "            \n",
    "        elif type(val) in {list, tuple} : \n",
    "            arr.extend(filter_from_iterable(val))\n",
    "            \n",
    "        elif type(val) == set : \n",
    "            arr.extend(list(i))\n",
    "    \n",
    "    return arr\n",
    "    \n",
    "    \n",
    "\n",
    "def flattern( arr ) :\n",
    "    f = []\n",
    "    for i in arr :\n",
    "        if type(i) == int : \n",
    "            f.append(i)\n",
    "            \n",
    "        elif type(i) in {list, tuple} : \n",
    "            f.extend( filter_from_iterable(i) )\n",
    "            \n",
    "        elif type(i) == dict : \n",
    "            f.extend( filter_from_dict(i) )\n",
    "            \n",
    "        elif type(i) == set : \n",
    "            f.extend(list(i))\n",
    "    \n",
    "    return f\n",
    "\n",
    "\n",
    "def product(arr) :\n",
    "    return reduce( lambda x, y : x*y, flattern(arr))"
   ]
  },
  {
   "cell_type": "code",
   "execution_count": 6,
   "id": "908916dd-d037-45c2-9464-24feb95b7358",
   "metadata": {},
   "outputs": [
    {
     "name": "stdout",
     "output_type": "stream",
     "text": [
      "4134711838987085478833841242112000\n"
     ]
    }
   ],
   "source": [
    "res = product(list1)\n",
    "print(res)"
   ]
  },
  {
   "cell_type": "markdown",
   "id": "ac846128-7b53-4d7b-9427-d90a140521fa",
   "metadata": {},
   "source": [
    "---"
   ]
  },
  {
   "cell_type": "markdown",
   "id": "0dd9ffc0-de6e-4f94-be09-4be9f54cbd91",
   "metadata": {},
   "source": [
    "##### Q2. Write a python program for encrypting a message sent to you by your friend. The logic of encryption  should be such that, for a the output should be z. For b, the output should be y. For c, the output should  be x respectively. Also, the whitespace should be replaced with a dollar sign. Keep the punctuation  marks unchanged. \n",
    "\n",
    "Input Sentence: I want to become a Data Scientist. \n",
    "\n",
    "Encrypt the above input sentence using the program you just created. \n",
    "\n",
    "Note: Convert the given input sentence into lowercase before encrypting. The final output should be  lowercase.\n"
   ]
  },
  {
   "cell_type": "code",
   "execution_count": 4,
   "id": "f285ec15-b523-42e4-9d2e-944994efeccd",
   "metadata": {},
   "outputs": [],
   "source": [
    "def encrypt_dict() :\n",
    "    l = list('abcdefghijklmnopqrstuvwxyz')\n",
    "    data = { l[i] : l[-i - 1] for i in range(0, 26)}\n",
    "    data.update({' ' : '$'})\n",
    "    return data\n",
    "\n",
    "\n",
    "def encrypt( msg : str) -> str:\n",
    "    msg = msg.lower()\n",
    "    sec = encrypt_dict()\n",
    "    \n",
    "    enc = ''\n",
    "    for i in msg :\n",
    "        enc += sec.get(i, i)\n",
    "    \n",
    "    return enc"
   ]
  },
  {
   "cell_type": "code",
   "execution_count": 148,
   "id": "ab1037f3-6dbd-4d88-b5bf-60668512c365",
   "metadata": {},
   "outputs": [
    {
     "name": "stdout",
     "output_type": "stream",
     "text": [
      "r$dzmg$gl$yvxlnv$z$wzgz$hxrvmgrhg.\n"
     ]
    }
   ],
   "source": [
    "enc = encrypt('I want to become a Data Scientist.')\n",
    "print(enc)"
   ]
  },
  {
   "cell_type": "code",
   "execution_count": null,
   "id": "1518f4cc-dcd1-4f18-8b0f-180ccf4139bf",
   "metadata": {},
   "outputs": [],
   "source": []
  }
 ],
 "metadata": {
  "kernelspec": {
   "display_name": "Python 3 (ipykernel)",
   "language": "python",
   "name": "python3"
  },
  "language_info": {
   "codemirror_mode": {
    "name": "ipython",
    "version": 3
   },
   "file_extension": ".py",
   "mimetype": "text/x-python",
   "name": "python",
   "nbconvert_exporter": "python",
   "pygments_lexer": "ipython3",
   "version": "3.9.7"
  }
 },
 "nbformat": 4,
 "nbformat_minor": 5
}
