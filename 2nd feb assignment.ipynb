{
 "cells": [
  {
   "cell_type": "markdown",
   "id": "f3ad91d5",
   "metadata": {},
   "source": [
    "# 2nd feb assignment"
   ]
  },
  {
   "cell_type": "markdown",
   "id": "c112c296",
   "metadata": {},
   "source": [
    "---"
   ]
  },
  {
   "cell_type": "markdown",
   "id": "0fb427d3",
   "metadata": {},
   "source": [
    "##### Q1. What are the characteristics of the tuples? Is tuple immutable?"
   ]
  },
  {
   "cell_type": "markdown",
   "id": "3274c2dd",
   "metadata": {},
   "source": [
    "|> Characteristics of tuples :\n",
    "- Tuple is immutable\n",
    "- Support Duplicate element\n",
    "- take less memory compare to list\n",
    "- Tuple is hashable"
   ]
  },
  {
   "cell_type": "markdown",
   "id": "45077d4e",
   "metadata": {},
   "source": [
    "|> Yes, tuple is immutable"
   ]
  },
  {
   "cell_type": "markdown",
   "id": "7854cda5",
   "metadata": {},
   "source": [
    "---\n",
    "\n",
    "\n",
    "##### Q2. What are the two tuple methods in python? Give an example of each method. Give a reason why  tuples have only two in-built methods as compared to Lists. "
   ]
  },
  {
   "cell_type": "markdown",
   "id": "4227cd8e",
   "metadata": {},
   "source": [
    "|> Two tuple methods in python are :\n",
    "- .count() : returns the no of occourance of a specific given value\n",
    "- .index() : returns index of the first occourance of a specific given value\n",
    "\n",
    "Examples :"
   ]
  },
  {
   "cell_type": "code",
   "execution_count": 29,
   "id": "5935ed9d",
   "metadata": {},
   "outputs": [
    {
     "data": {
      "text/plain": [
       "3"
      ]
     },
     "execution_count": 29,
     "metadata": {},
     "output_type": "execute_result"
    }
   ],
   "source": [
    "tup = (1, 2, 1, 3, 1, 4)\n",
    "tup.count(1) # return 3"
   ]
  },
  {
   "cell_type": "code",
   "execution_count": 30,
   "id": "c7953862",
   "metadata": {},
   "outputs": [
    {
     "data": {
      "text/plain": [
       "0"
      ]
     },
     "execution_count": 30,
     "metadata": {},
     "output_type": "execute_result"
    }
   ],
   "source": [
    "tup.index(1) # return"
   ]
  },
  {
   "cell_type": "markdown",
   "id": "8f6cc37a",
   "metadata": {},
   "source": [
    "---\n",
    "\n",
    "##### Q3.  Which collection datatypes in python do not allow duplicate items? Write a code using a set to remove  duplicates from the given list. \n",
    "List = [1, 1, 1, 2, 1, 3, 1, 4, 2, 1, 2, 2, 2, 3, 2, 4, 3, 1, 3, 2, 3, 3, 3, 4, 4, 1, 4, 2, 4, 3, 4, 4] \n"
   ]
  },
  {
   "cell_type": "markdown",
   "id": "526fc9f0",
   "metadata": {},
   "source": [
    "|> set doesn't allow duplicacy"
   ]
  },
  {
   "cell_type": "markdown",
   "id": "40d5a155",
   "metadata": {},
   "source": [
    "|> code to remove duplucacy from given list : "
   ]
  },
  {
   "cell_type": "code",
   "execution_count": 34,
   "id": "1f5f36c5",
   "metadata": {},
   "outputs": [
    {
     "data": {
      "text/plain": [
       "[1, 2, 3, 4]"
      ]
     },
     "execution_count": 34,
     "metadata": {},
     "output_type": "execute_result"
    }
   ],
   "source": [
    "List = [1, 1, 1, 2, 1, 3, 1, 4, 2, 1, 2, 2, 2, 3, 2, 4, 3, 1, 3, 2, 3, 3, 3, 4, 4, 1, 4, 2, 4, 3, 4, 4]\n",
    "List = list(set(List))\n",
    "List"
   ]
  },
  {
   "cell_type": "markdown",
   "id": "309021f2",
   "metadata": {},
   "source": [
    "---\n",
    "\n",
    "\n",
    "##### Q4. Explain the difference between the union() and update() methods for a set. Give an example of  each method."
   ]
  },
  {
   "cell_type": "markdown",
   "id": "5e6e63b0",
   "metadata": {},
   "source": [
    "|> simple difference between union() and update() is : \n",
    "> - union() only for merge with another set.\n",
    "  while using update() we can add values of any iterable\n",
    "> - union() is internal function but update() not"
   ]
  },
  {
   "cell_type": "code",
   "execution_count": 35,
   "id": "b4c3e24a",
   "metadata": {},
   "outputs": [],
   "source": [
    "s1 = {1, 2, 3, 4}\n",
    "s2 = {2, 4, 5, 6}\n",
    "tup = (4, 5, 7, 8)"
   ]
  },
  {
   "cell_type": "code",
   "execution_count": 36,
   "id": "dd971d91",
   "metadata": {},
   "outputs": [
    {
     "data": {
      "text/plain": [
       "{1, 2, 3, 4, 5, 6}"
      ]
     },
     "execution_count": 36,
     "metadata": {},
     "output_type": "execute_result"
    }
   ],
   "source": [
    "# union only works for another set\n",
    "s1.union(s2)"
   ]
  },
  {
   "cell_type": "code",
   "execution_count": 40,
   "id": "d76f75a1",
   "metadata": {},
   "outputs": [
    {
     "data": {
      "text/plain": [
       "{1, 2, 3, 4, 5, 7, 8}"
      ]
     },
     "execution_count": 40,
     "metadata": {},
     "output_type": "execute_result"
    }
   ],
   "source": [
    "# update works for every iterable\n",
    "s1.update(tup)\n",
    "s1"
   ]
  },
  {
   "cell_type": "markdown",
   "id": "c1313c52",
   "metadata": {},
   "source": [
    "---\n",
    "\n",
    "##### Q5. What is a dictionary? Give an example. Also, state whether a dictionary is ordered or unordered."
   ]
  },
  {
   "cell_type": "markdown",
   "id": "6df414e9",
   "metadata": {},
   "source": [
    "|> dictionary is a collection of key:value pair.\n",
    "\n",
    "|> Example : "
   ]
  },
  {
   "cell_type": "code",
   "execution_count": 146,
   "id": "d2f0975f",
   "metadata": {},
   "outputs": [],
   "source": [
    "d = {'key1' : \"value1\", \"key2\" : \"value2\"}"
   ]
  },
  {
   "cell_type": "markdown",
   "id": "a7f09749",
   "metadata": {},
   "source": [
    "|> dictionary is unordered collection in python"
   ]
  },
  {
   "cell_type": "markdown",
   "id": "8b3079d8",
   "metadata": {},
   "source": [
    "---\n",
    "\n",
    "\n",
    "##### Q6. Can we create a nested dictionary? If so, please give an example by creating a simple one-level  nested dictionary."
   ]
  },
  {
   "cell_type": "markdown",
   "id": "2acf5e9a",
   "metadata": {},
   "source": [
    "|> Yes, we can create a nested dictionary. Here's an example : "
   ]
  },
  {
   "cell_type": "code",
   "execution_count": 147,
   "id": "6a6447de",
   "metadata": {},
   "outputs": [],
   "source": [
    "d = {\"cource\" : {'title' : \"data science master\", 'start' : \"28 Jan 2023\"}} # it's a one-level nested dict"
   ]
  },
  {
   "cell_type": "code",
   "execution_count": 149,
   "id": "fa17039f",
   "metadata": {},
   "outputs": [
    {
     "name": "stdout",
     "output_type": "stream",
     "text": [
      "{'cource': {'title': 'data science master', 'start': '28 Jan 2023'}}\n"
     ]
    }
   ],
   "source": [
    "print(d)"
   ]
  },
  {
   "cell_type": "markdown",
   "id": "d391d5c8",
   "metadata": {},
   "source": [
    "---\n",
    "\n",
    "\n",
    "##### Q7. Using setdefault() method, create key named topics in the given dictionary and also add the value of  the key as this list ['Python', 'Machine Learning’, 'Deep Learning']\n",
    "dict1 = {'language' : 'Python', 'course': 'Data Science Masters'}"
   ]
  },
  {
   "cell_type": "code",
   "execution_count": 150,
   "id": "51cd955e",
   "metadata": {},
   "outputs": [],
   "source": [
    "dict1 = {'language' : 'Python', 'course': 'Data Science Masters'}"
   ]
  },
  {
   "cell_type": "code",
   "execution_count": 151,
   "id": "eea63a83",
   "metadata": {},
   "outputs": [
    {
     "data": {
      "text/plain": [
       "['Python', 'Machine Learning', 'Deep Learning']"
      ]
     },
     "execution_count": 151,
     "metadata": {},
     "output_type": "execute_result"
    }
   ],
   "source": [
    "dict1.setdefault('topics', ['Python', 'Machine Learning', 'Deep Learning'])"
   ]
  },
  {
   "cell_type": "code",
   "execution_count": 152,
   "id": "f31c16e6",
   "metadata": {},
   "outputs": [
    {
     "name": "stdout",
     "output_type": "stream",
     "text": [
      "{'language': 'Python', 'course': 'Data Science Masters', 'topics': ['Python', 'Machine Learning', 'Deep Learning']}\n"
     ]
    }
   ],
   "source": [
    "print(dict1)"
   ]
  },
  {
   "cell_type": "markdown",
   "id": "bc00a5ff",
   "metadata": {},
   "source": [
    "---"
   ]
  },
  {
   "cell_type": "markdown",
   "id": "b401e01f",
   "metadata": {},
   "source": [
    "\n",
    "\n",
    "\n",
    "##### Q8. What are the three view objects in dictionaries? Use the three in-built methods in python to display  these three view objects for the given dictionary. \n",
    "dict1 = {'Sport': 'Cricket' , 'Teams': ['India', 'Australia', 'England', 'South Africa', 'Sri Lanka', 'New Zealand']}"
   ]
  },
  {
   "cell_type": "markdown",
   "id": "c3b74130",
   "metadata": {},
   "source": [
    "|> Three view objects in dictionaries are :\n",
    "- keys()\n",
    "- values()\n",
    "- items()"
   ]
  },
  {
   "cell_type": "markdown",
   "id": "3d65540e",
   "metadata": {},
   "source": [
    "|> display of 3 in-built methods of 3 views :"
   ]
  },
  {
   "cell_type": "code",
   "execution_count": 153,
   "id": "52ef4916",
   "metadata": {},
   "outputs": [],
   "source": [
    "dict1 = {'Sport': 'Cricket' , 'Teams': ['India', 'Australia', 'England', 'South Africa', 'Sri Lanka', 'New Zealand']}"
   ]
  },
  {
   "cell_type": "code",
   "execution_count": 154,
   "id": "813abca0",
   "metadata": {},
   "outputs": [
    {
     "name": "stdout",
     "output_type": "stream",
     "text": [
      "dict_keys(['Sport', 'Teams'])\n"
     ]
    }
   ],
   "source": [
    "# key view of dict1\n",
    "print(dict1.keys())"
   ]
  },
  {
   "cell_type": "code",
   "execution_count": 157,
   "id": "9c536a46",
   "metadata": {},
   "outputs": [
    {
     "name": "stdout",
     "output_type": "stream",
     "text": [
      "dict_values(['Cricket', ['India', 'Australia', 'England', 'South Africa', 'Sri Lanka', 'New Zealand']])\n"
     ]
    }
   ],
   "source": [
    "# values view of dict1\n",
    "print(dict1.values())"
   ]
  },
  {
   "cell_type": "code",
   "execution_count": 158,
   "id": "d320d765",
   "metadata": {},
   "outputs": [
    {
     "name": "stdout",
     "output_type": "stream",
     "text": [
      "dict_items([('Sport', 'Cricket'), ('Teams', ['India', 'Australia', 'England', 'South Africa', 'Sri Lanka', 'New Zealand'])])\n"
     ]
    }
   ],
   "source": [
    "# items view of dict1\n",
    "print(dict1.items())"
   ]
  },
  {
   "cell_type": "markdown",
   "id": "7e9da628",
   "metadata": {},
   "source": [
    "---"
   ]
  }
 ],
 "metadata": {
  "kernelspec": {
   "display_name": "Python 3 (ipykernel)",
   "language": "python",
   "name": "python3"
  },
  "language_info": {
   "codemirror_mode": {
    "name": "ipython",
    "version": 3
   },
   "file_extension": ".py",
   "mimetype": "text/x-python",
   "name": "python",
   "nbconvert_exporter": "python",
   "pygments_lexer": "ipython3",
   "version": "3.9.7"
  }
 },
 "nbformat": 4,
 "nbformat_minor": 5
}
