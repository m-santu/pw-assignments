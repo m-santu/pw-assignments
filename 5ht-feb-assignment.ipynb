{
 "cells": [
  {
   "cell_type": "markdown",
   "id": "1350962d-2353-4d8c-bdc3-e5f17cacdd8b",
   "metadata": {},
   "source": [
    "# Assignment Questions "
   ]
  },
  {
   "cell_type": "markdown",
   "id": "ca70b50a-1274-4331-9354-132e4a98eb6c",
   "metadata": {},
   "source": [
    "---"
   ]
  },
  {
   "cell_type": "markdown",
   "id": "6503da13-93df-4e3c-8e27-2070217f0df6",
   "metadata": {},
   "source": [
    "##### Q1. Explain Class and Object with respect to Object-Oriented Programming. Give a suitable example. \n"
   ]
  },
  {
   "cell_type": "markdown",
   "id": "ee7e80df-6d23-460a-a817-73a033d2f322",
   "metadata": {},
   "source": [
    "|> class is a like a bluprint of every objects we create.\n",
    "class define some properties and behaviors for that object.\n",
    "and objects are the instances of that class having all of those properties and behaviors."
   ]
  },
  {
   "cell_type": "code",
   "execution_count": 8,
   "id": "3551a8ec-af49-4866-92fa-5bcbf7f8524c",
   "metadata": {},
   "outputs": [
    {
     "name": "stdout",
     "output_type": "stream",
     "text": [
      "I am ankan in age 22\n"
     ]
    }
   ],
   "source": [
    "class Person :\n",
    "    def __init__(self, name, age ) :\n",
    "        self.name = name\n",
    "        self.age = age\n",
    "    \n",
    "    def intro(self) :\n",
    "        print(f\"I am {self.name} in age {self.age}\")\n",
    "\n",
    "\n",
    "ankan = Person( 'ankan', 22 )\n",
    "ankan.intro()"
   ]
  },
  {
   "cell_type": "markdown",
   "id": "3669dd55-31f4-4406-9fbc-14fcdf66a63b",
   "metadata": {},
   "source": [
    "on above example `Person` is a class. it defines some properties ( like 'name', 'age' ) and behaviors ( 'intro' ) for the object ( `ankan` ) we create."
   ]
  },
  {
   "cell_type": "markdown",
   "id": "6962d8fb-4739-46e5-a21d-995e8bc0b103",
   "metadata": {},
   "source": [
    "---"
   ]
  },
  {
   "cell_type": "markdown",
   "id": "9a7ab83e-fac3-4019-b3f4-4f0601620b31",
   "metadata": {},
   "source": [
    "##### Q2. Name the four pillars of OOPs."
   ]
  },
  {
   "cell_type": "markdown",
   "id": "ba066bb4-4576-4153-98ff-ed4aa8999ba5",
   "metadata": {},
   "source": [
    "|> the 4 pillars are :\n",
    "- Inheritance\n",
    "- Polymorphism\n",
    "- Encapsulation\n",
    "- Abstraction\n"
   ]
  },
  {
   "cell_type": "markdown",
   "id": "f04a0c67-5d73-4e6d-b0f5-e221f7de800b",
   "metadata": {},
   "source": [
    "---"
   ]
  },
  {
   "cell_type": "markdown",
   "id": "faeec0a3-cae3-45b0-855a-922e99f20fbb",
   "metadata": {},
   "source": [
    "##### Q3. Explain why the __init__() function is used. Give a suitable example. "
   ]
  },
  {
   "cell_type": "markdown",
   "id": "1e179b5e-b19a-462d-bb9f-191024c9c288",
   "metadata": {},
   "source": [
    "|> init function is used to initialize attributes or properties of an object during object creation. "
   ]
  },
  {
   "cell_type": "code",
   "execution_count": 10,
   "id": "805ab67e-5e8d-4a1f-8fb2-b08c132e3e27",
   "metadata": {},
   "outputs": [
    {
     "name": "stdout",
     "output_type": "stream",
     "text": [
      "ankan\n",
      "22\n"
     ]
    }
   ],
   "source": [
    "class Person :\n",
    "     def __init__(self, name, age) :\n",
    "            self.name = name\n",
    "            self.age = age\n",
    "            \n",
    "\n",
    "ankan = Person( 'ankan', 22 )\n",
    "print( ankan.name )\n",
    "print( ankan.age )"
   ]
  },
  {
   "cell_type": "markdown",
   "id": "129786d9-47b1-46bd-9da8-e433eda248c4",
   "metadata": {},
   "source": [
    "on above example we can do the same without \\_\\_init__(). but using \\_\\_init__() code become much clear. also \\_\\_init__() always execute while object creation. so it's better to use init funciton"
   ]
  },
  {
   "cell_type": "markdown",
   "id": "7b891fa6-339a-407b-abd5-e672b3a31001",
   "metadata": {},
   "source": [
    "---"
   ]
  },
  {
   "cell_type": "markdown",
   "id": "e6c745df-b3b3-4476-8fc9-07ba525765c7",
   "metadata": {},
   "source": [
    "##### Q4. Why self is used in OOPs? "
   ]
  },
  {
   "cell_type": "markdown",
   "id": "05932d4b-bc67-463c-92a6-357b17002883",
   "metadata": {},
   "source": [
    "|> self is used to represent the instance of the class. when we want to define a object's own personal property or methods we use self and those property or methods are only be accessable only by that perticuler object we define"
   ]
  },
  {
   "cell_type": "markdown",
   "id": "45532b68-ac22-472d-b317-a02234584221",
   "metadata": {},
   "source": [
    "---"
   ]
  },
  {
   "cell_type": "markdown",
   "id": "fb49a84a-225e-4a8d-94d3-cb2ad79db4cd",
   "metadata": {},
   "source": [
    "##### Q5. What is inheritance? Give an example for each type of inheritance. \n"
   ]
  },
  {
   "cell_type": "markdown",
   "id": "2d0313a3-b92a-44d3-a38c-c358624e556e",
   "metadata": {},
   "source": [
    "|> suppose we want to create a class on the base of existing class so that the newly made class ( or child class ) have all attributes and methods of existing class ( or parent class ). means the child class inherit the all property and behaviour from parent class. This concept called inheritance in oops"
   ]
  },
  {
   "cell_type": "markdown",
   "id": "39cbd7fd-f5e5-4960-b131-0c504f615492",
   "metadata": {},
   "source": [
    "|> There are 5 inheritance concept :\n",
    "1. single inheritance\n",
    "2. multi level inheritance\n",
    "3. multiple inheritance\n",
    "4. hierarchical inheritance\n",
    "5. hybrid inheritance\n",
    "\n",
    "examples are given below :"
   ]
  },
  {
   "cell_type": "code",
   "execution_count": 3,
   "id": "cb6973a8-f6a1-41cc-b102-ed252602b3bb",
   "metadata": {},
   "outputs": [
    {
     "name": "stdout",
     "output_type": "stream",
     "text": [
      "ABC High School\n"
     ]
    }
   ],
   "source": [
    "'''\n",
    "1. single inheritance :\n",
    "where child class inherit from one single parent\n",
    "\n",
    "A -> B\n",
    "here B is inherited from A\n",
    "'''\n",
    "\n",
    "class School :\n",
    "    \n",
    "    def __init__(self, name ) :\n",
    "        self.school = name\n",
    "    \n",
    "\n",
    "class Student ( School ):\n",
    "    def __init__(self, name, school_name ) :\n",
    "        self.name = name\n",
    "        super().__init__(school_name)\n",
    "\n",
    "        \n",
    "arjun = Student( \"arjun\", \"ABC High School\" )\n",
    "print( arjun.school )\n"
   ]
  },
  {
   "cell_type": "code",
   "execution_count": 4,
   "id": "ff6afd00-229f-4d45-8766-5a1d187fc8a1",
   "metadata": {},
   "outputs": [
    {
     "name": "stdout",
     "output_type": "stream",
     "text": [
      "XYZ High School\n"
     ]
    }
   ],
   "source": [
    "'''\n",
    "2. multi level inheritance :\n",
    "a class inherit from a parent class, while that parent class inherited from another parent class\n",
    "\n",
    "A -> B -> C\n",
    "here C is inherited from B. B is inherited from A\n",
    "'''\n",
    "\n",
    "\n",
    "\n",
    "class School :\n",
    "    \n",
    "    def __init__(self, name ) :\n",
    "        self.school = name\n",
    "    \n",
    "\n",
    "class Student ( School ):\n",
    "    def __init__(self, name, school_name ) :\n",
    "        self.name = name\n",
    "        super().__init__(school_name)\n",
    "        \n",
    "\n",
    "class Result ( Student ):\n",
    "    def __init__(self, total, st_name, st_school):\n",
    "        super().__init__(st_name, st_school)\n",
    "        self.total = total\n",
    "\n",
    "        \n",
    "\n",
    "r = Result(40, 'arjun', 'XYZ High School')\n",
    "print(r.school)"
   ]
  },
  {
   "cell_type": "code",
   "execution_count": 5,
   "id": "46d276ef-02d5-463f-86d7-a0067fd0b193",
   "metadata": {},
   "outputs": [
    {
     "name": "stdout",
     "output_type": "stream",
     "text": [
      "sudhpur, jhargram\n",
      "ABC High School\n"
     ]
    }
   ],
   "source": [
    "'''\n",
    "3. multiple inheritance :\n",
    "where a child class inherit from multiple individual parent classes\n",
    "'''\n",
    "\n",
    "class Address :\n",
    "    def __init__(self, address) :\n",
    "        self.address = address\n",
    "\n",
    "\n",
    "class School :\n",
    "    \n",
    "    def __init__(self, name ) :\n",
    "        self.school = name\n",
    "    \n",
    "\n",
    "class Student ( Address, School ):\n",
    "    def __init__(self, name, address, school_name ) :\n",
    "        self.name = name\n",
    "        School.__init__(self, school_name)\n",
    "        Address.__init__(self, address)\n",
    "\n",
    "        \n",
    "\n",
    "soumya = Student('soumya', 'sudhpur, jhargram', 'ABC High School')\n",
    "print( soumya.address )\n",
    "print( soumya.school )"
   ]
  },
  {
   "cell_type": "code",
   "execution_count": 6,
   "id": "fe16a92d-2615-4f24-9a66-c59e136068bf",
   "metadata": {},
   "outputs": [
    {
     "name": "stdout",
     "output_type": "stream",
     "text": [
      "rohit is a teacher from ABC High School\n",
      "sohom is a student from XYZ High School\n"
     ]
    }
   ],
   "source": [
    "'''\n",
    "4. hierarchical inheritance :\n",
    "where a parent class have multiple child classes\n",
    "'''\n",
    "\n",
    "class School :\n",
    "    \n",
    "    def __init__(self, name ) :\n",
    "        self.school = name\n",
    "\n",
    "    \n",
    "class Teacher ( School ) :\n",
    "    def __init__(self, name, school ) :\n",
    "        self.name = name\n",
    "        super().__init__(school)\n",
    "    \n",
    "\n",
    "class Student ( School ):\n",
    "    def __init__(self, name, school_name ) :\n",
    "        self.name = name\n",
    "        super().__init__(school_name)\n",
    "\n",
    "\n",
    "rohit = Teacher( 'rohit', 'ABC High School' )\n",
    "sohom = Student( 'sohom', 'XYZ High School' )\n",
    "\n",
    "print( f\"rohit is a teacher from {rohit.school}\" )\n",
    "print(f\"sohom is a student from {sohom.school}\")"
   ]
  },
  {
   "cell_type": "code",
   "execution_count": 7,
   "id": "0a59f9d2-b42c-49d9-9624-11a447227924",
   "metadata": {},
   "outputs": [
    {
     "name": "stdout",
     "output_type": "stream",
     "text": [
      "name : rohan\n",
      "address : kolkata,west bengal\n",
      "school : Netaji Subhas Primary School\n",
      "result : 80\n"
     ]
    }
   ],
   "source": [
    "'''\n",
    "5. hybrid inheritance\n",
    "it's a combination of multiple type of inheritance\n",
    "'''\n",
    "\n",
    "class Address :\n",
    "    def __init__(self, address) :\n",
    "        self.address = address\n",
    "\n",
    "\n",
    "class School :\n",
    "    \n",
    "    def __init__(self, name ) :\n",
    "        self.school = name\n",
    "    \n",
    "\n",
    "class Student ( Address, School ):\n",
    "    def __init__(self, name, address, school_name ) :\n",
    "        self.name = name\n",
    "        School.__init__(self, school_name)\n",
    "        Address.__init__(self, address)\n",
    "\n",
    "\n",
    "class Result ( Student ):\n",
    "    def __init__(self, total, st_name, st_address, st_school):\n",
    "        super().__init__(st_name, st_address, st_school)\n",
    "        self.result = total\n",
    "\n",
    "\n",
    "r = Result( 80, 'rohan', 'kolkata,west bengal', 'Netaji Subhas Primary School' )\n",
    "print(f\"name : {r.name}\\naddress : {r.address}\\nschool : {r.school}\\nresult : {r.result}\")\n"
   ]
  },
  {
   "cell_type": "code",
   "execution_count": null,
   "id": "279c9b2b-e483-48d5-a949-31b629fb8b37",
   "metadata": {},
   "outputs": [],
   "source": []
  },
  {
   "cell_type": "markdown",
   "id": "8ea877a0-c882-48f4-8837-ec1b13ad9726",
   "metadata": {},
   "source": [
    "---"
   ]
  }
 ],
 "metadata": {
  "kernelspec": {
   "display_name": "Python 3 (ipykernel)",
   "language": "python",
   "name": "python3"
  },
  "language_info": {
   "codemirror_mode": {
    "name": "ipython",
    "version": 3
   },
   "file_extension": ".py",
   "mimetype": "text/x-python",
   "name": "python",
   "nbconvert_exporter": "python",
   "pygments_lexer": "ipython3",
   "version": "3.9.7"
  }
 },
 "nbformat": 4,
 "nbformat_minor": 5
}
