{
 "cells": [
  {
   "cell_type": "markdown",
   "id": "dcfae7ee",
   "metadata": {},
   "source": [
    "# 30th Jan Assignment"
   ]
  },
  {
   "cell_type": "markdown",
   "id": "9ada09d1",
   "metadata": {},
   "source": [
    "."
   ]
  },
  {
   "cell_type": "markdown",
   "id": "9768727c",
   "metadata": {},
   "source": [
    "**Q1. Write a program to accept percentage from the user and display the grade according to the following \n",
    "criteria**\n",
    "\n",
    "| Marks | Grade |\n",
    "|--|--|\n",
    "| >90 | A |\n",
    "| >80 and <=90 | B |\n",
    "| >=60 and <=80 | C |\n",
    "| below 60 | D |\n",
    "\n",
    "."
   ]
  },
  {
   "cell_type": "code",
   "execution_count": 2,
   "id": "c3ac8ba8",
   "metadata": {},
   "outputs": [
    {
     "name": "stdout",
     "output_type": "stream",
     "text": [
      "Your Grade : A\n"
     ]
    }
   ],
   "source": [
    "input_data = input(\"Enter your percentage : \")\n",
    "\n",
    "percentage = int(input_data)\n",
    "print('Your Grade : ', end='')\n",
    "\n",
    "if percentage > 90 :\n",
    "    print('A')\n",
    "\n",
    "elif percentage >80 and percentage <= 90 :\n",
    "    print('B')\n",
    "\n",
    "elif percentage >= 60 and percentage <= 80 :\n",
    "    print('C')\n",
    "\n",
    "else : print('D')"
   ]
  },
  {
   "cell_type": "markdown",
   "id": "00d29b9f",
   "metadata": {},
   "source": [
    "."
   ]
  },
  {
   "cell_type": "markdown",
   "id": "4dfa3e6f",
   "metadata": {},
   "source": [
    ".\n",
    "\n",
    "\n",
    "\n"
   ]
  },
  {
   "cell_type": "markdown",
   "id": "1fb59a03",
   "metadata": {},
   "source": [
    "**Q2. Write a program to accept the cost price of a bike and display the road tax to be paid according to the \n",
    "following criteria:**\n",
    "\n",
    "|Tax||Cost Price (in Rs)|\n",
    "|--|--|--|\n",
    "|15%||>100000|\n",
    "|10%||>50000 and <= 100000|\n",
    "|5%||<=50000|\n",
    "\n",
    "\n",
    "\n",
    "."
   ]
  },
  {
   "cell_type": "code",
   "execution_count": 3,
   "id": "5e80789c",
   "metadata": {},
   "outputs": [
    {
     "name": "stdout",
     "output_type": "stream",
     "text": [
      "\n",
      "you have to pay 1711.15 rupees as road tax\n"
     ]
    }
   ],
   "source": [
    "cost = int(input(\"Enter your bike cost (in Rs) : \"))\n",
    "print()\n",
    "\n",
    "road_tax = 0 #in percentage\n",
    "\n",
    "if cost > 1e5 :\n",
    "    road_tax = 15\n",
    "\n",
    "elif cost > 5e4 and cost <= 1e5 :\n",
    "    road_tax = 10\n",
    "\n",
    "elif cost <= 5e4 :\n",
    "    road_tax = 5\n",
    "\n",
    "    \n",
    "tax = (cost * road_tax) / 100\n",
    "total = cost + tax\n",
    "\n",
    "print(f\"you have to pay {tax} rupees as road tax\")"
   ]
  },
  {
   "cell_type": "markdown",
   "id": "e9900356",
   "metadata": {},
   "source": [
    ".\n",
    "\n",
    "\n"
   ]
  },
  {
   "cell_type": "markdown",
   "id": "367cdb88",
   "metadata": {},
   "source": [
    "**Q3. Accept any city from the user and display monuments of that city.**\n",
    "\n",
    "\n",
    "|City||Monument|\n",
    "|--|--|--|\n",
    "|Delhi||Red Fort|\n",
    "|Agra||Taj Mahal|\n",
    "|Jaipur||Jal Mahal|\n",
    "\n",
    "."
   ]
  },
  {
   "cell_type": "code",
   "execution_count": 4,
   "id": "2ea0257e",
   "metadata": {},
   "outputs": [
    {
     "name": "stdout",
     "output_type": "stream",
     "text": [
      "monument of delhi : Red Fort\n"
     ]
    }
   ],
   "source": [
    "city = input(\"Enter City (Delhi, Agra, Jaipur) : \").strip().lower()\n",
    "\n",
    "monument = None\n",
    "if city == 'delhi' : monument = 'Red Fort'\n",
    "elif city == 'agra' : monument = 'Taj Mahal'\n",
    "elif city == 'jaipur' : monument = 'Jal Mahal'\n",
    "else : monument = None\n",
    "\n",
    "print(f\"monument of {city} : {monument}\" if monument else f\"you must choose between delhi, agra & jaipur\")"
   ]
  },
  {
   "cell_type": "markdown",
   "id": "a703a297",
   "metadata": {},
   "source": [
    ".\n"
   ]
  },
  {
   "cell_type": "markdown",
   "id": "50186203",
   "metadata": {},
   "source": [
    ". "
   ]
  },
  {
   "cell_type": "markdown",
   "id": "6c46e624",
   "metadata": {},
   "source": [
    "**Q4. Check how many times a given number can be divided by 3 before it is less than or equal to 10**"
   ]
  },
  {
   "cell_type": "code",
   "execution_count": 6,
   "id": "2e45f6e5",
   "metadata": {},
   "outputs": [
    {
     "name": "stdout",
     "output_type": "stream",
     "text": [
      "10 times\n"
     ]
    }
   ],
   "source": [
    "number = int(input(\"enter your number : \"))\n",
    "\n",
    "count = 0\n",
    "\n",
    "while number > 10 and number % 3 == 0:\n",
    "    count += 1\n",
    "    number /= 3\n",
    "\n",
    "\n",
    "print(f\"{count} times\")"
   ]
  },
  {
   "cell_type": "markdown",
   "id": "d0a9d452",
   "metadata": {},
   "source": [
    "."
   ]
  },
  {
   "cell_type": "markdown",
   "id": "587f8b89",
   "metadata": {},
   "source": [
    ". "
   ]
  },
  {
   "cell_type": "markdown",
   "id": "ff7e12bb",
   "metadata": {},
   "source": [
    "**Q5. why and when to use while loop in python give a detailed description with example**"
   ]
  },
  {
   "cell_type": "markdown",
   "id": "82687cc6",
   "metadata": {},
   "source": [
    "Ans. 'While' loop in python are used when we want to execute certine block of codes repetedly while a certain condition is true.\n",
    "\n",
    "For example, you may want to print the number of digit in a given number by user. here we dont know how much loop we exactly need. Here as a loop condition we check if number a single digit. if yes then exit and print count. otherwise we increese count by one, and update number removing last digit."
   ]
  },
  {
   "cell_type": "code",
   "execution_count": null,
   "id": "01a412a7",
   "metadata": {},
   "outputs": [],
   "source": [
    "num = int(input(\"enter your number : \"))\n",
    "\n",
    "num = abs(num)\n",
    "count = 0\n",
    "\n",
    "while num :\n",
    "    count += 1\n",
    "    num //= 10\n",
    "\n",
    "\n",
    "print(count if num != 0 else 1)"
   ]
  },
  {
   "cell_type": "markdown",
   "id": "8c7fb223",
   "metadata": {},
   "source": [
    "."
   ]
  },
  {
   "cell_type": "markdown",
   "id": "7ae31240",
   "metadata": {},
   "source": [
    ". "
   ]
  },
  {
   "cell_type": "markdown",
   "id": "2571fa88",
   "metadata": {},
   "source": [
    "**Q6. use nested while loop to print 3 different pattern**"
   ]
  },
  {
   "cell_type": "code",
   "execution_count": null,
   "id": "b54f847c",
   "metadata": {},
   "outputs": [],
   "source": [
    "rows = 5\n",
    "\n",
    "# rectangle pattern\n",
    "current = 1\n",
    "while current <= rows :\n",
    "    stars = rows\n",
    "    while stars :\n",
    "        print(\"*\", end=\" \")\n",
    "        stars -= 1\n",
    "    print()\n",
    "    current += 1\n",
    "    \n",
    "\n",
    "#  Right-angled Triangle pattern:\n",
    "print()\n",
    "current = 1\n",
    "while current <= rows :\n",
    "    stars = current\n",
    "    while stars :\n",
    "        print(\"*\", end=\" \")\n",
    "        stars -= 1\n",
    "    print()\n",
    "    current += 1\n",
    "\n",
    "    \n",
    "# triangle pattern :\n",
    "print()\n",
    "current = 1\n",
    "while current <= rows :\n",
    "    space = rows - current\n",
    "    stars = current\n",
    "    \n",
    "    # print space\n",
    "    while space :\n",
    "        print(end=\" \")\n",
    "        space -= 1\n",
    "    \n",
    "    # print stars\n",
    "    while stars :\n",
    "        print(\"*\", end=\" \")\n",
    "        stars -= 1\n",
    "    \n",
    "    print()\n",
    "    \n",
    "    current += 1\n",
    "\n"
   ]
  },
  {
   "cell_type": "markdown",
   "id": "676be482",
   "metadata": {},
   "source": [
    "**Q7. Reverse a while loop to display numbers from 10 to 1**"
   ]
  },
  {
   "cell_type": "code",
   "execution_count": null,
   "id": "6e6c5c3b",
   "metadata": {},
   "outputs": [],
   "source": [
    "num = 10\n",
    "\n",
    "while num > 0 :\n",
    "    print(num)\n",
    "    num -= 1"
   ]
  },
  {
   "cell_type": "markdown",
   "id": "7064ea95",
   "metadata": {},
   "source": [
    "**Q8. Reverse a while loop to display numbers from 10 to 1**"
   ]
  },
  {
   "cell_type": "code",
   "execution_count": null,
   "id": "9358d822",
   "metadata": {},
   "outputs": [],
   "source": [
    "num = 10\n",
    "\n",
    "while num > 0 :\n",
    "    print(num)\n",
    "    num -= 1"
   ]
  },
  {
   "cell_type": "code",
   "execution_count": null,
   "id": "93f16e46",
   "metadata": {},
   "outputs": [],
   "source": []
  }
 ],
 "metadata": {
  "kernelspec": {
   "display_name": "Python 3.9.7 ('base')",
   "language": "python",
   "name": "python3"
  },
  "language_info": {
   "codemirror_mode": {
    "name": "ipython",
    "version": 3
   },
   "file_extension": ".py",
   "mimetype": "text/x-python",
   "name": "python",
   "nbconvert_exporter": "python",
   "pygments_lexer": "ipython3",
   "version": "3.9.7"
  },
  "vscode": {
   "interpreter": {
    "hash": "7308770bd7fa3dbbb6b535eb123aa3b19d85b2e8c113cb05a3802c9981a5ab78"
   }
  }
 },
 "nbformat": 4,
 "nbformat_minor": 5
}
