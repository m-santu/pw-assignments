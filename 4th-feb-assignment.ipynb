{
 "cells": [
  {
   "cell_type": "markdown",
   "id": "16db3d4d-d4c1-47ed-85fd-9d5397bb87c2",
   "metadata": {
    "tags": []
   },
   "source": [
    "# Assignment Questions"
   ]
  },
  {
   "cell_type": "markdown",
   "id": "0cc67031-44e6-44b8-af18-0fe7a9855413",
   "metadata": {},
   "source": [
    "---"
   ]
  },
  {
   "cell_type": "markdown",
   "id": "b4a546b3-9e0d-4b66-94b2-47ab9a811c89",
   "metadata": {},
   "source": [
    "##### Q1. Create a python program to sort the given list of tuples based on integer value using a  lambda function.  \n",
    "[('Sachin Tendulkar', 34357), ('Ricky Ponting', 27483), ('Jack Kallis', 25534), ('Virat Kohli', 24936)] \n"
   ]
  },
  {
   "cell_type": "code",
   "execution_count": 1,
   "id": "9ae3fe92-a3c5-4ddd-a949-2f608320c6a2",
   "metadata": {},
   "outputs": [
    {
     "name": "stdout",
     "output_type": "stream",
     "text": [
      "[('Virat Kohli', 24936), ('Jack Kallis', 25534), ('Ricky Ponting', 27483), ('Sachin Tendulkar', 34357)]\n"
     ]
    }
   ],
   "source": [
    "l = [('Sachin Tendulkar', 34357), ('Ricky Ponting', 27483), ('Jack Kallis', 25534), ('Virat Kohli', 24936)]\n",
    "l.sort( key=lambda x : x[1] )\n",
    "print(l)"
   ]
  },
  {
   "cell_type": "markdown",
   "id": "58cd4356-cb70-4401-9a91-bbeb69b8853e",
   "metadata": {},
   "source": [
    "---"
   ]
  },
  {
   "cell_type": "markdown",
   "id": "9d5b464c-bde3-452c-b89e-0846b3b7da94",
   "metadata": {},
   "source": [
    "##### Q2. Write a Python Program to find the squares of all the numbers in the given list of integers using  lambda and map functions. \n",
    "[1, 2, 3, 4, 5, 6, 7, 8, 9, 10]"
   ]
  },
  {
   "cell_type": "code",
   "execution_count": 2,
   "id": "6d0a933c-c590-49ff-9f84-b57863c59c2a",
   "metadata": {},
   "outputs": [
    {
     "name": "stdout",
     "output_type": "stream",
     "text": [
      "[1, 4, 9, 16, 25, 36, 49, 64, 81, 100]\n"
     ]
    }
   ],
   "source": [
    "l = [1, 2, 3, 4, 5, 6, 7, 8, 9, 10]\n",
    "squred_list = list(map( lambda x : x*x, l))\n",
    "print(squred_list)"
   ]
  },
  {
   "cell_type": "markdown",
   "id": "c3d13d6d-af2a-468e-998e-4c3cf65a5aba",
   "metadata": {},
   "source": [
    "---"
   ]
  },
  {
   "cell_type": "markdown",
   "id": "b13fcbd6-1522-4481-91a2-2e54eefb60a1",
   "metadata": {},
   "source": [
    "##### Q3. Write a python program to convert the given list of integers into a tuple of strings. Use map and  lambda functions \n",
    "Given String: [1, 2, 3, 4, 5, 6, 7, 8, 9, 10]\n",
    "\n",
    "Expected output: ('1', '2', '3', '4', '5', '6', '7', '8', '9', '10') \n"
   ]
  },
  {
   "cell_type": "code",
   "execution_count": 3,
   "id": "45f25a40-af76-4499-9fe9-9044eb099007",
   "metadata": {},
   "outputs": [
    {
     "name": "stdout",
     "output_type": "stream",
     "text": [
      "('1', '2', '3', '4', '5', '6', '7', '8', '9', '10')\n"
     ]
    }
   ],
   "source": [
    "l = [1, 2, 3, 4, 5, 6, 7, 8, 9, 10]\n",
    "s = tuple( map( lambda x : str(x), l ) )\n",
    "print(s)"
   ]
  },
  {
   "cell_type": "markdown",
   "id": "61ed3f53-658b-40fd-8787-364ba63e5a6e",
   "metadata": {},
   "source": [
    "---"
   ]
  },
  {
   "cell_type": "markdown",
   "id": "78a103f9-2501-4fce-9af4-94eb201e3bd1",
   "metadata": {},
   "source": [
    "##### Q4.  Write a python program using reduce function to compute the product of a list containing numbers  from 1 to 25. \n"
   ]
  },
  {
   "cell_type": "code",
   "execution_count": 4,
   "id": "055728d6-30ae-4b9c-846c-e084dbdbc13c",
   "metadata": {},
   "outputs": [
    {
     "name": "stdout",
     "output_type": "stream",
     "text": [
      "15511210043330985984000000\n"
     ]
    }
   ],
   "source": [
    "from functools import reduce\n",
    "l = list( range(1, 26) )\n",
    "product = reduce( lambda x,y : x*y, l)\n",
    "print(product)"
   ]
  },
  {
   "cell_type": "markdown",
   "id": "25aad669-d8aa-40b2-ab77-a5863ce6d3da",
   "metadata": {},
   "source": [
    "---"
   ]
  },
  {
   "cell_type": "markdown",
   "id": "4ce5fe8b-a5b2-4359-85b7-9b6456244be2",
   "metadata": {},
   "source": [
    "##### Q5. Write a python program to filter the numbers in a given list that are divisible by 2 and 3 using the  filter function. \n",
    "[2, 3, 6, 9, 27, 60, 90, 120, 55, 46] "
   ]
  },
  {
   "cell_type": "code",
   "execution_count": 11,
   "id": "ba146bd4-a1cb-46f8-87a6-d5c2066d21de",
   "metadata": {},
   "outputs": [
    {
     "name": "stdout",
     "output_type": "stream",
     "text": [
      "[6, 60, 90, 120]\n"
     ]
    }
   ],
   "source": [
    "l = [2, 3, 6, 9, 27, 60, 90, 120, 55, 46] \n",
    "f = filter( lambda x : x&1==0 and x%3==0, l) # filter out all int that are divisable by 2 and 3\n",
    "print(list(f))"
   ]
  },
  {
   "cell_type": "markdown",
   "id": "e0937f0d-a99e-4c5b-ace3-aebe4546198f",
   "metadata": {},
   "source": [
    "---"
   ]
  },
  {
   "cell_type": "markdown",
   "id": "d4084d3f-1c7c-4e62-9014-79195b60c961",
   "metadata": {},
   "source": [
    "##### Q6. Write a python program to find palindromes in the given list of strings using lambda and filter  function. \n",
    "['python', 'php', 'aba', 'radar', 'level'] \n"
   ]
  },
  {
   "cell_type": "code",
   "execution_count": 12,
   "id": "0f15b931-4536-49b1-b56d-330c5331291f",
   "metadata": {},
   "outputs": [
    {
     "name": "stdout",
     "output_type": "stream",
     "text": [
      "['php', 'aba', 'radar', 'level']\n"
     ]
    }
   ],
   "source": [
    "s = ['python', 'php', 'aba', 'radar', 'level'] \n",
    "f = filter( lambda x : x == x[::-1], s)\n",
    "print(list(f))"
   ]
  },
  {
   "cell_type": "markdown",
   "id": "3ca54fa2-121e-4f0c-ac5c-2c62e597c33f",
   "metadata": {},
   "source": [
    "---"
   ]
  }
 ],
 "metadata": {
  "kernelspec": {
   "display_name": "Python 3 (ipykernel)",
   "language": "python",
   "name": "python3"
  },
  "language_info": {
   "codemirror_mode": {
    "name": "ipython",
    "version": 3
   },
   "file_extension": ".py",
   "mimetype": "text/x-python",
   "name": "python",
   "nbconvert_exporter": "python",
   "pygments_lexer": "ipython3",
   "version": "3.9.7"
  }
 },
 "nbformat": 4,
 "nbformat_minor": 5
}
