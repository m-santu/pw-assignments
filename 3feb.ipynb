{
 "cells": [
  {
   "cell_type": "markdown",
   "id": "a5776d4d-ae53-44e9-ba7f-8f288b181331",
   "metadata": {},
   "source": [
    "## Assignment Questions"
   ]
  },
  {
   "cell_type": "markdown",
   "id": "0c9490f0-bdb8-4588-b7bd-bb7927c74e83",
   "metadata": {},
   "source": [
    "---"
   ]
  },
  {
   "cell_type": "markdown",
   "id": "5293293b-dfd9-475c-8774-8e82838f2cd6",
   "metadata": {},
   "source": [
    "##### Q1. Which keyword is used to create a function? Create a function to return a list of odd numbers in the  range of 1 to 25. "
   ]
  },
  {
   "cell_type": "markdown",
   "id": "c5534fd4-9eb5-4080-89c6-71aae4040a32",
   "metadata": {},
   "source": [
    "> 'def' used to create a function\n",
    "\n",
    "function that will return odd numbers in the range of 1 to 25 :"
   ]
  },
  {
   "cell_type": "code",
   "execution_count": 11,
   "id": "46daa7ee-3d51-4787-948a-f452048d52f8",
   "metadata": {},
   "outputs": [],
   "source": [
    "def odd_nums( start = 1, end = 25 ) :\n",
    "    return [ i for i in range(start, end) if i & 1 != 0 ]"
   ]
  },
  {
   "cell_type": "code",
   "execution_count": 12,
   "id": "9e0df499-1e2e-4195-aaa2-2d79259ae7ae",
   "metadata": {},
   "outputs": [
    {
     "data": {
      "text/plain": [
       "[1, 3, 5, 7, 9, 11, 13, 15, 17, 19, 21, 23]"
      ]
     },
     "execution_count": 12,
     "metadata": {},
     "output_type": "execute_result"
    }
   ],
   "source": [
    "odd_nums()"
   ]
  },
  {
   "cell_type": "markdown",
   "id": "30ddf28e-82e2-48fe-ac51-c76c3ac0b3c9",
   "metadata": {},
   "source": [
    " "
   ]
  },
  {
   "cell_type": "markdown",
   "id": "154e2fc5-4646-4d0a-ac55-265ecb3d6008",
   "metadata": {},
   "source": [
    "---"
   ]
  },
  {
   "cell_type": "markdown",
   "id": "afa37433-d0f7-4417-85e2-3a87ea1ce9bb",
   "metadata": {},
   "source": [
    "##### Q2. Why *args and **kwargs is used in some functions? Create a function each for *args and **kwargs to  demonstrate their use."
   ]
  },
  {
   "cell_type": "markdown",
   "id": "e94171f8-9dc0-498f-81aa-91b09a6e47fe",
   "metadata": {},
   "source": [
    "> *args used when we unsure about number of arguments pass to parameter (not keyword type). *args accept all of them as tuple.\n",
    "    while *kwargs used when we unsure about number of keyword type arguments pass to the function parameter"
   ]
  },
  {
   "cell_type": "code",
   "execution_count": 24,
   "id": "be81f22d-5af3-46bf-a0a2-92102bda711a",
   "metadata": {},
   "outputs": [],
   "source": [
    "\"\"\"example of *args in function \"\"\"\n",
    "def sumOfNumbers( *nums ) :\n",
    "    sum = 0\n",
    "    for i in nums :\n",
    "        sum += i\n",
    "    return sum"
   ]
  },
  {
   "cell_type": "code",
   "execution_count": 25,
   "id": "a36f5240-4947-4635-b54b-d32ab449e51f",
   "metadata": {},
   "outputs": [
    {
     "data": {
      "text/plain": [
       "15"
      ]
     },
     "execution_count": 25,
     "metadata": {},
     "output_type": "execute_result"
    }
   ],
   "source": [
    "sumOfNumbers(1, 2, 3, 4, 5)"
   ]
  },
  {
   "cell_type": "code",
   "execution_count": 33,
   "id": "6465af9d-8362-45b7-8fd2-afad316b8d88",
   "metadata": {},
   "outputs": [],
   "source": [
    "\"\"\"example of **kwargs in function\"\"\"\n",
    "def intro( **kwargs ) :\n",
    "    for key, val in kwargs.items() :\n",
    "        print(f\"{key} : {val}\")"
   ]
  },
  {
   "cell_type": "code",
   "execution_count": 34,
   "id": "70ea6c14-8c9c-46ea-9452-a61629640e94",
   "metadata": {},
   "outputs": [
    {
     "name": "stdout",
     "output_type": "stream",
     "text": [
      "name : ankan\n",
      "age : 22\n"
     ]
    }
   ],
   "source": [
    "intro(name=\"ankan\", age=22)"
   ]
  },
  {
   "cell_type": "markdown",
   "id": "d540503f-3ee2-486e-a307-d98801ffc639",
   "metadata": {},
   "source": [
    "---"
   ]
  },
  {
   "cell_type": "markdown",
   "id": "ed484a19-8e53-48f9-b080-22484465604d",
   "metadata": {},
   "source": [
    "##### Q3.  What is an iterator in python? Name the method used to initialise the iterator object and the method  used for iteration. Use these methods to print the first five elements of the given list [2, 4, 6, 8, 10, 12, 14, 16,  18, 20]. \n"
   ]
  },
  {
   "cell_type": "markdown",
   "id": "a4d86876-c80f-4a9e-afea-3b44b7c62330",
   "metadata": {},
   "source": [
    "> iterator : it's a object we can iter through using a next() or for loop"
   ]
  },
  {
   "cell_type": "markdown",
   "id": "dd008876-4d41-470a-bb42-d079ca1561a7",
   "metadata": {},
   "source": [
    "> iter() used to initialise the iterator object while next() used for iteration"
   ]
  },
  {
   "cell_type": "code",
   "execution_count": 90,
   "id": "3319d230-e452-4490-905c-04b2c1b98b67",
   "metadata": {},
   "outputs": [
    {
     "name": "stdout",
     "output_type": "stream",
     "text": [
      "2\n",
      "4\n",
      "6\n",
      "8\n",
      "10\n"
     ]
    }
   ],
   "source": [
    "'''print 1st 5 ele from given list using iterator methods'''\n",
    "l = [2, 4, 6, 8, 10, 12, 14, 16,  18, 20] # given list\n",
    "itr = iter(l)\n",
    "print(next(itr)) # returns 1st ele\n",
    "print(next(itr)) # returns 2nd ele\n",
    "print(next(itr)) # returns 3rd ele\n",
    "print(next(itr)) # returns 4th ele\n",
    "print(next(itr)) # returns 5th ele"
   ]
  },
  {
   "cell_type": "markdown",
   "id": "2e747200-ddc3-4198-9912-4bd63032792b",
   "metadata": {},
   "source": [
    "---"
   ]
  },
  {
   "cell_type": "markdown",
   "id": "d1de799e-0db9-4272-b298-f1d14e8d3df4",
   "metadata": {},
   "source": [
    "##### Q4.  What is a generator function in python? Why yield keyword is used? Give an example of a generator  function. \n"
   ]
  },
  {
   "cell_type": "markdown",
   "id": "f8321925-1f66-425d-a5af-85dbec8bbf17",
   "metadata": {},
   "source": [
    "> In python, generator function returns an iterable objects that we can iter through"
   ]
  },
  {
   "cell_type": "markdown",
   "id": "07ceace9-ed3d-4215-9511-14da69711e68",
   "metadata": {},
   "source": [
    "> In python, 'yield' keyword is used to define a generator"
   ]
  },
  {
   "cell_type": "code",
   "execution_count": 96,
   "id": "063954ee-800a-484f-9cb9-7162b6e67648",
   "metadata": {},
   "outputs": [],
   "source": [
    "'example of generator function'\n",
    "def fibonacci(n) :\n",
    "    a, b = 0, 1\n",
    "    while n :\n",
    "        yield a\n",
    "        a, b = b, a + b\n",
    "        n -= 1"
   ]
  },
  {
   "cell_type": "code",
   "execution_count": 98,
   "id": "d9d80757-c178-4d79-9034-a86c85daac1e",
   "metadata": {},
   "outputs": [
    {
     "data": {
      "text/plain": [
       "<generator object fibonacci at 0x000002F366BD14A0>"
      ]
     },
     "execution_count": 98,
     "metadata": {},
     "output_type": "execute_result"
    }
   ],
   "source": [
    "fibonacci(10)"
   ]
  },
  {
   "cell_type": "markdown",
   "id": "6c3854da-be3f-49b4-9ccb-d54542f06150",
   "metadata": {},
   "source": [
    "---"
   ]
  },
  {
   "cell_type": "markdown",
   "id": "ac891a32-85ea-4976-8448-343dd287d381",
   "metadata": {},
   "source": [
    "##### Q5. Create a generator function for prime numbers less than 1000. Use the next() method to print the  first 20 prime numbers. \n"
   ]
  },
  {
   "cell_type": "code",
   "execution_count": 124,
   "id": "8467b71d-b7ef-4af9-afa6-fd1f0ea7fd14",
   "metadata": {},
   "outputs": [],
   "source": [
    "def is_prime( num ) :\n",
    "    '''returns if a number is prime or not'''\n",
    "    if num < 2 : return False\n",
    "\n",
    "    end = int(num**0.5)\n",
    "    for i in range(2, end + 1) :\n",
    "        if num % i == 0 :\n",
    "            return False\n",
    "    \n",
    "    return True\n",
    "\n",
    "\n",
    "def prime( num ) :\n",
    "    '''genarate prime number below given num'''\n",
    "    for i in range(num) :\n",
    "        if is_prime(i) : yield i\n"
   ]
  },
  {
   "cell_type": "code",
   "execution_count": 132,
   "id": "2c845760-68f0-4dd6-9edb-d10b9d9cbd4e",
   "metadata": {},
   "outputs": [
    {
     "name": "stdout",
     "output_type": "stream",
     "text": [
      "2\n",
      "3\n",
      "5\n",
      "7\n",
      "11\n",
      "13\n",
      "17\n",
      "19\n",
      "23\n",
      "29\n",
      "31\n",
      "37\n",
      "41\n",
      "43\n",
      "47\n",
      "53\n",
      "59\n",
      "61\n",
      "67\n",
      "71\n"
     ]
    }
   ],
   "source": [
    "pr = prime(1000)\n",
    "\n",
    "# print first 20 prime number using next() method\n",
    "print(next(pr))\n",
    "print(next(pr))\n",
    "print(next(pr))\n",
    "print(next(pr))\n",
    "print(next(pr))\n",
    "print(next(pr))\n",
    "print(next(pr))\n",
    "print(next(pr))\n",
    "print(next(pr))\n",
    "print(next(pr))\n",
    "print(next(pr))\n",
    "print(next(pr))\n",
    "print(next(pr))\n",
    "print(next(pr))\n",
    "print(next(pr))\n",
    "print(next(pr))\n",
    "print(next(pr))\n",
    "print(next(pr))\n",
    "print(next(pr))\n",
    "print(next(pr))\n"
   ]
  },
  {
   "cell_type": "markdown",
   "id": "7f8aa32c-1ad7-454c-84ae-ea41941043a4",
   "metadata": {},
   "source": [
    "---"
   ]
  }
 ],
 "metadata": {
  "kernelspec": {
   "display_name": "Python 3 (ipykernel)",
   "language": "python",
   "name": "python3"
  },
  "language_info": {
   "codemirror_mode": {
    "name": "ipython",
    "version": 3
   },
   "file_extension": ".py",
   "mimetype": "text/x-python",
   "name": "python",
   "nbconvert_exporter": "python",
   "pygments_lexer": "ipython3",
   "version": "3.9.7"
  }
 },
 "nbformat": 4,
 "nbformat_minor": 5
}
